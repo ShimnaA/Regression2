{
 "cells": [
  {
   "cell_type": "markdown",
   "metadata": {
    "colab_type": "text",
    "id": "m3PAEPRDRLA3"
   },
   "source": [
    "# Support Vector Regression (SVR)"
   ]
  },
  {
   "cell_type": "markdown",
   "metadata": {
    "colab_type": "text",
    "id": "0VCUAVIjRdzZ"
   },
   "source": [
    "## Importing the libraries"
   ]
  },
  {
   "cell_type": "code",
   "execution_count": 2,
   "metadata": {},
   "outputs": [],
   "source": [
    "import numpy as np\n",
    "import matplotlib.pyplot as plt\n",
    "import pandas as pd"
   ]
  },
  {
   "cell_type": "markdown",
   "metadata": {
    "colab_type": "text",
    "id": "fXVXoFWtSF4_"
   },
   "source": [
    "## Importing the dataset"
   ]
  },
  {
   "cell_type": "code",
   "execution_count": 5,
   "metadata": {},
   "outputs": [],
   "source": [
    "dataset = pd.read_csv('Position_Salaries.csv')\n",
    "X = dataset.iloc[:, 1:-1].values\n",
    "y = dataset.iloc[:, -1].values"
   ]
  },
  {
   "cell_type": "code",
   "execution_count": 6,
   "metadata": {},
   "outputs": [
    {
     "name": "stdout",
     "output_type": "stream",
     "text": [
      "[[ 1]\n",
      " [ 2]\n",
      " [ 3]\n",
      " [ 4]\n",
      " [ 5]\n",
      " [ 6]\n",
      " [ 7]\n",
      " [ 8]\n",
      " [ 9]\n",
      " [10]]\n"
     ]
    }
   ],
   "source": [
    "print(X)"
   ]
  },
  {
   "cell_type": "code",
   "execution_count": 7,
   "metadata": {},
   "outputs": [
    {
     "data": {
      "text/plain": [
       "array([  45000,   50000,   60000,   80000,  110000,  150000,  200000,\n",
       "        300000,  500000, 1000000], dtype=int64)"
      ]
     },
     "execution_count": 7,
     "metadata": {},
     "output_type": "execute_result"
    }
   ],
   "source": [
    "y"
   ]
  },
  {
   "cell_type": "code",
   "execution_count": 11,
   "metadata": {},
   "outputs": [],
   "source": [
    "y = y.reshape(len(y), 1)"
   ]
  },
  {
   "cell_type": "code",
   "execution_count": 12,
   "metadata": {},
   "outputs": [
    {
     "name": "stdout",
     "output_type": "stream",
     "text": [
      "[[  45000]\n",
      " [  50000]\n",
      " [  60000]\n",
      " [  80000]\n",
      " [ 110000]\n",
      " [ 150000]\n",
      " [ 200000]\n",
      " [ 300000]\n",
      " [ 500000]\n",
      " [1000000]]\n"
     ]
    }
   ],
   "source": [
    "print(y)"
   ]
  },
  {
   "cell_type": "markdown",
   "metadata": {
    "colab_type": "text",
    "id": "YS8FeLHYS-nI"
   },
   "source": [
    "## Feature Scaling"
   ]
  },
  {
   "cell_type": "code",
   "execution_count": 13,
   "metadata": {},
   "outputs": [],
   "source": [
    "from sklearn.preprocessing import StandardScaler\n",
    "sc = StandardScaler()\n",
    "X= sc.fit_transform(X)\n",
    "sc_y = StandardScaler()\n",
    "y = sc_y.fit_transform(y)"
   ]
  },
  {
   "cell_type": "code",
   "execution_count": 14,
   "metadata": {},
   "outputs": [
    {
     "data": {
      "text/plain": [
       "array([[-1.5666989 ],\n",
       "       [-1.21854359],\n",
       "       [-0.87038828],\n",
       "       [-0.52223297],\n",
       "       [-0.17407766],\n",
       "       [ 0.17407766],\n",
       "       [ 0.52223297],\n",
       "       [ 0.87038828],\n",
       "       [ 1.21854359],\n",
       "       [ 1.5666989 ]])"
      ]
     },
     "execution_count": 14,
     "metadata": {},
     "output_type": "execute_result"
    }
   ],
   "source": [
    "X"
   ]
  },
  {
   "cell_type": "code",
   "execution_count": 15,
   "metadata": {},
   "outputs": [
    {
     "data": {
      "text/plain": [
       "array([[-0.72004253],\n",
       "       [-0.70243757],\n",
       "       [-0.66722767],\n",
       "       [-0.59680786],\n",
       "       [-0.49117815],\n",
       "       [-0.35033854],\n",
       "       [-0.17428902],\n",
       "       [ 0.17781001],\n",
       "       [ 0.88200808],\n",
       "       [ 2.64250325]])"
      ]
     },
     "execution_count": 15,
     "metadata": {},
     "output_type": "execute_result"
    }
   ],
   "source": [
    "y"
   ]
  },
  {
   "cell_type": "markdown",
   "metadata": {
    "colab_type": "text",
    "id": "eiU6D2QFRjxY"
   },
   "source": [
    "## Training the SVR model on the whole dataset"
   ]
  },
  {
   "cell_type": "code",
   "execution_count": 18,
   "metadata": {},
   "outputs": [],
   "source": [
    "from sklearn.svm import SVR\n",
    "regressor = SVR(kernel='rbf')\n"
   ]
  },
  {
   "cell_type": "code",
   "execution_count": 19,
   "metadata": {},
   "outputs": [
    {
     "name": "stderr",
     "output_type": "stream",
     "text": [
      "f:\\Users\\user\\anaconda3\\lib\\site-packages\\sklearn\\utils\\validation.py:73: DataConversionWarning: A column-vector y was passed when a 1d array was expected. Please change the shape of y to (n_samples, ), for example using ravel().\n",
      "  return f(**kwargs)\n"
     ]
    },
    {
     "data": {
      "text/plain": [
       "SVR()"
      ]
     },
     "execution_count": 19,
     "metadata": {},
     "output_type": "execute_result"
    }
   ],
   "source": [
    "regressor.fit(X,y)"
   ]
  },
  {
   "cell_type": "code",
   "execution_count": 22,
   "metadata": {},
   "outputs": [],
   "source": [
    "y = y.reshape(len(y))"
   ]
  },
  {
   "cell_type": "code",
   "execution_count": 23,
   "metadata": {},
   "outputs": [
    {
     "data": {
      "text/plain": [
       "SVR()"
      ]
     },
     "execution_count": 23,
     "metadata": {},
     "output_type": "execute_result"
    }
   ],
   "source": [
    "regressor.fit(X,y)"
   ]
  },
  {
   "cell_type": "markdown",
   "metadata": {
    "colab_type": "text",
    "id": "deDnDr8UR5vq"
   },
   "source": [
    "## Predicting a new result"
   ]
  },
  {
   "cell_type": "code",
   "execution_count": 26,
   "metadata": {},
   "outputs": [
    {
     "data": {
      "text/plain": [
       "array([170370.0204065])"
      ]
     },
     "execution_count": 26,
     "metadata": {},
     "output_type": "execute_result"
    }
   ],
   "source": [
    "sc_y.inverse_transform( regressor.predict(sc.transform([[6.5]])))"
   ]
  },
  {
   "cell_type": "markdown",
   "metadata": {
    "colab_type": "text",
    "id": "zzedFlUISSu_"
   },
   "source": [
    "## Visualising the SVR results"
   ]
  },
  {
   "cell_type": "code",
   "execution_count": 29,
   "metadata": {},
   "outputs": [
    {
     "data": {
      "image/png": "[encoded data removed]",
      "text/plain": [
       "<Figure size 432x288 with 1 Axes>"
      ]
     },
     "metadata": {
      "needs_background": "light"
     },
     "output_type": "display_data"
    }
   ],
   "source": [
    "plt.scatter(sc.inverse_transform(X), sc_y.inverse_transform(y), color = 'red')\n",
    "plt.plot(sc.inverse_transform(X), sc_y.inverse_transform(regressor.predict(X)), color = 'blue')\n",
    "\n",
    "plt.title('Truth or Bluff (Support Vector Regression)')\n",
    "plt.xlabel('Position level')\n",
    "plt.ylabel('Salary')\n",
    "plt.show()"
   ]
  },
  {
   "cell_type": "markdown",
   "metadata": {
    "colab_type": "text",
    "id": "UahPVNlJSZ-K"
   },
   "source": [
    "## Visualising the SVR results (for higher resolution and smoother curve)"
   ]
  },
  {
   "cell_type": "code",
   "execution_count": 39,
   "metadata": {},
   "outputs": [
    {
     "data": {
      "image/png": "[encoded data removed]",
      "text/plain": [
       "<Figure size 432x288 with 1 Axes>"
      ]
     },
     "metadata": {
      "needs_background": "light"
     },
     "output_type": "display_data"
    }
   ],
   "source": [
    "X_grid = np.arange(sc.inverse_transform(min(X)), sc.inverse_transform(max(X)), 0.1)\n",
    "X_grid = X_grid.reshape((len(X_grid), 1))\n",
    "plt.scatter(sc.inverse_transform(X), sc_y.inverse_transform(y), color = 'red')\n",
    "plt.plot(X_grid, sc_y.inverse_transform(regressor.predict(sc.transform(X_grid))), color = 'blue')\n",
    "plt.title('Truth or Bluff (Support Vector Regression)')\n",
    "plt.xlabel('Position level')\n",
    "plt.ylabel('Salary')\n",
    "plt.show()"
   ]
  },
  {
   "cell_type": "code",
   "execution_count": 37,
   "metadata": {},
   "outputs": [
    {
     "data": {
      "text/plain": [
       "array([[-1.71291154],\n",
       "       [-1.67441914],\n",
       "       [-1.63592675],\n",
       "       [-1.59743435],\n",
       "       [-1.55894196],\n",
       "       [-1.52044957],\n",
       "       [-1.48195717],\n",
       "       [-1.44346478],\n",
       "       [-1.40497238],\n",
       "       [-1.36647999],\n",
       "       [-1.3279876 ],\n",
       "       [-1.2894952 ],\n",
       "       [-1.25100281],\n",
       "       [-1.21251041],\n",
       "       [-1.17401802],\n",
       "       [-1.13552563],\n",
       "       [-1.09703323],\n",
       "       [-1.05854084],\n",
       "       [-1.02004844],\n",
       "       [-0.98155605],\n",
       "       [-0.94306366],\n",
       "       [-0.90457126],\n",
       "       [-0.86607887],\n",
       "       [-0.82758647],\n",
       "       [-0.78909408],\n",
       "       [-0.75060168],\n",
       "       [-0.71210929],\n",
       "       [-0.6736169 ],\n",
       "       [-0.6351245 ],\n",
       "       [-0.59663211],\n",
       "       [-0.55813971],\n",
       "       [-0.51964732],\n",
       "       [-0.48115493],\n",
       "       [-0.44266253],\n",
       "       [-0.40417014],\n",
       "       [-0.36567774],\n",
       "       [-0.32718535],\n",
       "       [-0.28869296],\n",
       "       [-0.25020056],\n",
       "       [-0.21170817],\n",
       "       [-0.17321577],\n",
       "       [-0.13472338],\n",
       "       [-0.09623099],\n",
       "       [-0.05773859],\n",
       "       [-0.0192462 ],\n",
       "       [ 0.0192462 ],\n",
       "       [ 0.05773859],\n",
       "       [ 0.09623099],\n",
       "       [ 0.13472338],\n",
       "       [ 0.17321577],\n",
       "       [ 0.21170817],\n",
       "       [ 0.25020056],\n",
       "       [ 0.28869296],\n",
       "       [ 0.32718535],\n",
       "       [ 0.36567774],\n",
       "       [ 0.40417014],\n",
       "       [ 0.44266253],\n",
       "       [ 0.48115493],\n",
       "       [ 0.51964732],\n",
       "       [ 0.55813971],\n",
       "       [ 0.59663211],\n",
       "       [ 0.6351245 ],\n",
       "       [ 0.6736169 ],\n",
       "       [ 0.71210929],\n",
       "       [ 0.75060168],\n",
       "       [ 0.78909408],\n",
       "       [ 0.82758647],\n",
       "       [ 0.86607887],\n",
       "       [ 0.90457126],\n",
       "       [ 0.94306366],\n",
       "       [ 0.98155605],\n",
       "       [ 1.02004844],\n",
       "       [ 1.05854084],\n",
       "       [ 1.09703323],\n",
       "       [ 1.13552563],\n",
       "       [ 1.17401802],\n",
       "       [ 1.21251041],\n",
       "       [ 1.25100281],\n",
       "       [ 1.2894952 ],\n",
       "       [ 1.3279876 ],\n",
       "       [ 1.36647999],\n",
       "       [ 1.40497238],\n",
       "       [ 1.44346478],\n",
       "       [ 1.48195717],\n",
       "       [ 1.52044957],\n",
       "       [ 1.55894196],\n",
       "       [ 1.59743435],\n",
       "       [ 1.63592675],\n",
       "       [ 1.67441914],\n",
       "       [ 1.71291154]])"
      ]
     },
     "execution_count": 37,
     "metadata": {},
     "output_type": "execute_result"
    }
   ],
   "source": [
    "sc.fit_transform(X_grid)"
   ]
  },
  {
   "cell_type": "code",
   "execution_count": null,
   "metadata": {},
   "outputs": [],
   "source": []
  }
 ],
 "metadata": {
  "colab": {
   "collapsed_sections": [],
   "name": "support_vector_regression.ipynb",
   "provenance": [],
   "toc_visible": true
  },
  "kernelspec": {
   "display_name": "Python 3",
   "language": "python",
   "name": "python3"
  },
  "language_info": {
   "codemirror_mode": {
    "name": "ipython",
    "version": 3
   },
   "file_extension": ".py",
   "mimetype": "text/x-python",
   "name": "python",
   "nbconvert_exporter": "python",
   "pygments_lexer": "ipython3",
   "version": "3.8.3"
  }
 },
 "nbformat": 4,
 "nbformat_minor": 1
}
